{
 "cells": [
  {
   "cell_type": "markdown",
   "metadata": {},
   "source": [
    "# Initialization"
   ]
  },
  {
   "cell_type": "code",
   "execution_count": 1,
   "metadata": {},
   "outputs": [],
   "source": [
    "import pandas as pd\n",
    "import numpy as np\n",
    "import matplotlib.pyplot as plt\n",
    "import seaborn as sns\n",
    "import warnings\n",
    "\n",
    "from sklearn.preprocessing import StandardScaler\n",
    "from sklearn.model_selection import train_test_split, GridSearchCV\n",
    "from sklearn.linear_model import LogisticRegression\n",
    "from sklearn.svm import SVC\n",
    "from sklearn.tree import DecisionTreeClassifier\n",
    "from sklearn.neighbors import KNeighborsClassifier\n",
    "from sklearn.pipeline import Pipeline\n",
    "from sklearn.feature_selection import f_classif, SelectKBest\n",
    "\n",
    "%matplotlib inline\n",
    "warnings.filterwarnings('ignore')"
   ]
  },
  {
   "cell_type": "code",
   "execution_count": 2,
   "metadata": {},
   "outputs": [],
   "source": [
    "np.random.seed(0)"
   ]
  },
  {
   "cell_type": "code",
   "execution_count": 3,
   "metadata": {},
   "outputs": [],
   "source": [
    "df_X = pd.read_csv(\"SpaceX_ML_Predict_X.csv\")\n",
    "df_y = pd.read_csv(\"SpaceX_ML_Predict_y.csv\")"
   ]
  },
  {
   "cell_type": "code",
   "execution_count": 4,
   "metadata": {},
   "outputs": [
    {
     "data": {
      "text/plain": [
       "((138, 93), (138, 1))"
      ]
     },
     "execution_count": 4,
     "metadata": {},
     "output_type": "execute_result"
    }
   ],
   "source": [
    "df_X.shape, df_y.shape"
   ]
  },
  {
   "cell_type": "code",
   "execution_count": 5,
   "metadata": {},
   "outputs": [
    {
     "name": "stdout",
     "output_type": "stream",
     "text": [
      "Size of Train Split:\t110\n",
      "Size of Test Split:\t28\n"
     ]
    }
   ],
   "source": [
    "print(\"Size of Train Split:\\t{:.0f}\".format(np.round(df_X.shape[0]*(1-0.2))))\n",
    "print(\"Size of Test Split:\\t{:.0f}\".format(df_X.shape[0] - np.round(df_X.shape[0]*(1-0.2))))"
   ]
  },
  {
   "cell_type": "markdown",
   "metadata": {},
   "source": [
    "# Iteration"
   ]
  },
  {
   "cell_type": "markdown",
   "metadata": {},
   "source": [
    "## Random Seeds"
   ]
  },
  {
   "cell_type": "code",
   "execution_count": 9,
   "metadata": {},
   "outputs": [
    {
     "data": {
      "image/png": "[encoded data removed]",
      "text/plain": [
       "<Figure size 720x360 with 1 Axes>"
      ]
     },
     "metadata": {
      "needs_background": "light"
     },
     "output_type": "display_data"
    }
   ],
   "source": [
    "random_seeds = np.append(np.random.randint(0, 100, 20), np.linspace(100, 119, 20))\n",
    "random_seeds.sort()\n",
    "random_seeds = random_seeds.astype('int')\n",
    "\n",
    "fig, ax = plt.subplots(figsize=(10,5))\n",
    "ax.bar(x=np.linspace(0, 39, 40), height=random_seeds)\n",
    "plt.show()"
   ]
  },
  {
   "cell_type": "markdown",
   "metadata": {},
   "source": [
    "## Loop"
   ]
  },
  {
   "cell_type": "code",
   "execution_count": 10,
   "metadata": {
    "tags": []
   },
   "outputs": [],
   "source": [
    "classifiers = [\"Logistic Regression\", \"Support Vector Machine\", \"Decision Tree\", \"K-Nearest Neighbors\"]\n",
    "features = [\"All\", \"Selected\"]\n",
    "folds = [\"Train\", \"Test\"]\n",
    "cols2 = []\n",
    "cols3 = []\n",
    "\n",
    "for clas in classifiers:\n",
    "    for feat in features:\n",
    "        cols2.append((clas, feat))\n",
    "            \n",
    "for clas in classifiers:\n",
    "    for feat in features:\n",
    "        for fold in folds:\n",
    "            cols3.append((clas, feat, fold))\n",
    "            \n",
    "cols2 = pd.MultiIndex.from_tuples(cols2)\n",
    "cols3 = pd.MultiIndex.from_tuples(cols3)"
   ]
  },
  {
   "cell_type": "code",
   "execution_count": 11,
   "metadata": {},
   "outputs": [],
   "source": [
    "df_rs = pd.DataFrame(index=random_seeds, columns=cols3)\n",
    "df_trn_id = pd.DataFrame(index=random_seeds, columns=np.arange(np.round(df_X.shape[0]*(1-0.2))))\n",
    "df_tst_id = pd.DataFrame(index=random_seeds, columns=np.arange(df_X.shape[0] - np.round(df_X.shape[0]*(1-0.2))))\n",
    "df_bp = pd.DataFrame(index=random_seeds, columns=cols2)"
   ]
  },
  {
   "cell_type": "code",
   "execution_count": 12,
   "metadata": {},
   "outputs": [],
   "source": [
    "for i, rs in enumerate(random_seeds):\n",
    "    \n",
    "# Train Test Split\n",
    "    df_X_train, df_X_test, df_y_train, df_y_test = train_test_split(df_X, df_y, test_size=0.2, random_state=rs)\n",
    "    X_train = df_X_train.to_numpy()\n",
    "    X_test = df_X_test.to_numpy()\n",
    "    y_train = df_y_train.to_numpy().ravel()\n",
    "    y_test = df_y_test.to_numpy().ravel()\n",
    "    \n",
    "# Indices of Train and Test Splits\n",
    "    for j in range(df_trn_id.shape[1]):\n",
    "        df_trn_id.iloc[i,j] = df_X_train.index[j]\n",
    "    for j in range(df_tst_id.shape[1]):\n",
    "        df_tst_id.iloc[i,j] = df_X_test.index[j]\n",
    "        \n",
    "# Logistic Regression - All Features\n",
    "    pipe_lr_all = Pipeline([(\"scaler\", StandardScaler()),\n",
    "                            (\"lr\", LogisticRegression())])\n",
    "    param_lr_all ={\"lr__C\":[0.001, 0.01, 0.1, 1, 10, 100],\n",
    "                   'lr__penalty':['l2'],\n",
    "                   'lr__solver':['lbfgs']}\n",
    "    grid_lr_all = GridSearchCV(pipe_lr_all,\n",
    "                               param_grid=param_lr_all,\n",
    "                               cv=10,\n",
    "                               n_jobs=3)\n",
    "    grid_lr_all.fit(X_train, y_train)\n",
    "    cv_score_lr_all = grid_lr_all.best_score_\n",
    "    score_lr_all = grid_lr_all.score(X_test, y_test)\n",
    "    df_rs.iloc[i,0] = cv_score_lr_all\n",
    "    df_rs.iloc[i,1] = score_lr_all\n",
    "    df_bp.iloc[i,0] = str(grid_lr_all.best_params_)\n",
    "    \n",
    "# Support Vector Machine - All Features\n",
    "    pipe_svm_all = Pipeline([(\"scaler\", StandardScaler()),\n",
    "                             (\"svm\", SVC())])\n",
    "    param_svm_all = {'svm__kernel':['linear', 'rbf', 'poly', 'sigmoid'],\n",
    "                     'svm__C': np.logspace(-3, 3, 5),\n",
    "                     'svm__gamma':np.logspace(-3, 2, 6)}\n",
    "    grid_svm_all = GridSearchCV(pipe_svm_all,\n",
    "                                param_grid=param_svm_all,\n",
    "                                cv=10,\n",
    "                                n_jobs=3)\n",
    "    grid_svm_all.fit(X_train, y_train)\n",
    "    cv_score_svm_all = grid_svm_all.best_score_\n",
    "    score_svm_all = grid_svm_all.score(X_test, y_test)\n",
    "    df_rs.iloc[i,4] = cv_score_svm_all\n",
    "    df_rs.iloc[i,5] = score_svm_all\n",
    "    df_bp.iloc[i,2] = str(grid_svm_all.best_params_)\n",
    "    \n",
    "# Decision Tree - All Features\n",
    "    pipe_dt_all = Pipeline([(\"scaler\", StandardScaler()),\n",
    "                            (\"dt\", DecisionTreeClassifier())])\n",
    "    param_dt_all = {'dt__criterion': ['gini', 'entropy'],\n",
    "                    'dt__splitter': ['best', 'random'],\n",
    "                    'dt__max_depth': [2*n for n in range(1,10)],\n",
    "                    'dt__max_features': ['auto', 'sqrt'],\n",
    "                    'dt__min_samples_leaf': [1, 2, 4],\n",
    "                    'dt__min_samples_split': [2, 5, 10]}\n",
    "    grid_dt_all = GridSearchCV(pipe_dt_all,\n",
    "                               param_grid=param_dt_all,\n",
    "                               cv=10,\n",
    "                               n_jobs=3)\n",
    "    grid_dt_all.fit(X_train, y_train)\n",
    "    cv_score_dt_all = grid_dt_all.best_score_\n",
    "    score_dt_all = grid_dt_all.score(X_test, y_test)\n",
    "    df_rs.iloc[i,8] = cv_score_dt_all\n",
    "    df_rs.iloc[i,9] = score_dt_all\n",
    "    df_bp.iloc[i,4] = str(grid_dt_all.best_params_)\n",
    "    \n",
    "# K-Nearest Neighbors - All Features\n",
    "    pipe_knn_all = Pipeline([(\"scaler\", StandardScaler()),\n",
    "                             (\"knn\", KNeighborsClassifier())])\n",
    "    param_knn_all = {'knn__n_neighbors': [1, 2, 3, 4, 5, 6, 7, 8, 9, 10],\n",
    "                     'knn__algorithm': ['auto', 'ball_tree', 'kd_tree', 'brute'],\n",
    "                     'knn__p': [1,2]}\n",
    "    grid_knn_all = GridSearchCV(pipe_knn_all,\n",
    "                                param_grid=param_knn_all,\n",
    "                                cv=10,\n",
    "                                n_jobs=3)\n",
    "    grid_knn_all.fit(X_train, y_train)\n",
    "    cv_score_knn_all = grid_knn_all.best_score_\n",
    "    score_knn_all = grid_knn_all.score(X_test, y_test)\n",
    "    df_rs.iloc[i,12] = cv_score_knn_all\n",
    "    df_rs.iloc[i,13] = score_knn_all\n",
    "    df_bp.iloc[i,6] = str(grid_knn_all.best_params_)\n",
    "    \n",
    "# Logistic Regression - Selected Features\n",
    "    pipe_lr_selected = Pipeline([(\"selector\", SelectKBest()),\n",
    "                                 (\"scaler\", StandardScaler()),\n",
    "                                 (\"lr\", LogisticRegression())])\n",
    "    param_lr_selected ={'selector__score_func':[f_classif],\n",
    "                        'selector__k':[10],\n",
    "                        \"lr__C\":[0.001, 0.01, 0.1, 1, 10, 100],\n",
    "                        'lr__penalty':['l2'],\n",
    "                        'lr__solver':['lbfgs']}\n",
    "    grid_lr_selected = GridSearchCV(pipe_lr_selected,\n",
    "                                    param_grid=param_lr_selected,\n",
    "                                    cv=10,\n",
    "                                    n_jobs=3)\n",
    "    grid_lr_selected.fit(X_train, y_train)\n",
    "    cv_score_lr_selected = grid_lr_selected.best_score_\n",
    "    score_lr_selected = grid_lr_selected.score(X_test, y_test)\n",
    "    df_rs.iloc[i,2] = cv_score_lr_selected\n",
    "    df_rs.iloc[i,3] = score_lr_selected\n",
    "    df_bp.iloc[i,1] = str(grid_lr_selected.best_params_)\n",
    "\n",
    "# Support Vector Machine - Selected Features\n",
    "    pipe_svm_selected = Pipeline([(\"selector\", SelectKBest()),\n",
    "                                  (\"scaler\", StandardScaler()),\n",
    "                                  (\"svm\", SVC())])\n",
    "    param_svm_selected = {'selector__score_func':[f_classif],\n",
    "                          'selector__k':[10],\n",
    "                          'svm__kernel':['linear', 'rbf', 'poly', 'sigmoid'],\n",
    "                          'svm__C': np.logspace(-3, 3, 5),\n",
    "                          'svm__gamma':np.logspace(-3, 2, 6)}\n",
    "    grid_svm_selected = GridSearchCV(pipe_svm_selected,\n",
    "                                     param_grid=param_svm_selected,\n",
    "                                     cv=10,\n",
    "                                     n_jobs=3)\n",
    "    grid_svm_selected.fit(X_train, y_train)\n",
    "    cv_score_svm_selected = grid_svm_selected.best_score_\n",
    "    score_svm_selected = grid_svm_selected.score(X_test, y_test)\n",
    "    df_rs.iloc[i,6] = cv_score_svm_selected\n",
    "    df_rs.iloc[i,7] = score_svm_selected\n",
    "    df_bp.iloc[i,3] = str(grid_svm_selected.best_params_)\n",
    "    \n",
    "# Decision Tree - Selected Features\n",
    "    pipe_dt_selected = Pipeline([(\"selector\", SelectKBest()),\n",
    "                                 (\"scaler\", StandardScaler()),\n",
    "                                 (\"dt\", DecisionTreeClassifier())])\n",
    "    param_dt_selected = {'selector__score_func':[f_classif],\n",
    "                         'selector__k':[10],\n",
    "                         'dt__criterion': ['gini', 'entropy'],\n",
    "                         'dt__splitter': ['best', 'random'],\n",
    "                         'dt__max_depth': [2*n for n in range(1,10)],\n",
    "                         'dt__max_features': ['auto', 'sqrt'],\n",
    "                         'dt__min_samples_leaf': [1, 2, 4],\n",
    "                         'dt__min_samples_split': [2, 5, 10]}\n",
    "    grid_dt_selected = GridSearchCV(pipe_dt_selected,\n",
    "                                    param_grid=param_dt_selected,\n",
    "                                    cv=10,\n",
    "                                    n_jobs=3)\n",
    "    grid_dt_selected.fit(X_train, y_train)\n",
    "    cv_score_dt_selected = grid_dt_selected.best_score_\n",
    "    score_dt_selected = grid_dt_selected.score(X_test, y_test)\n",
    "    df_rs.iloc[i,10] = cv_score_dt_selected\n",
    "    df_rs.iloc[i,11] = score_dt_selected\n",
    "    df_bp.iloc[i,5] = str(grid_dt_selected.best_params_)\n",
    "\n",
    "# K-Nearest Neighbors - Selected Features\n",
    "    pipe_knn_selected = Pipeline([(\"selector\", SelectKBest()),\n",
    "                                  (\"scaler\", StandardScaler()),\n",
    "                                  (\"knn\", KNeighborsClassifier())])\n",
    "    param_knn_selected = {'selector__score_func':[f_classif],\n",
    "                          'selector__k':[10],\n",
    "                          'knn__n_neighbors': [1, 2, 3, 4, 5, 6, 7, 8, 9, 10],\n",
    "                          'knn__algorithm': ['auto', 'ball_tree', 'kd_tree', 'brute'],\n",
    "                          'knn__p': [1,2]}\n",
    "    grid_knn_selected = GridSearchCV(pipe_knn_selected,\n",
    "                                     param_grid=param_knn_selected,\n",
    "                                     cv=10,\n",
    "                                     n_jobs=3)\n",
    "    grid_knn_selected.fit(X_train, y_train)\n",
    "    cv_score_knn_selected = grid_knn_selected.best_score_\n",
    "    score_knn_selected = grid_knn_selected.score(X_test, y_test)\n",
    "    df_rs.iloc[i,14] = cv_score_knn_selected\n",
    "    df_rs.iloc[i,15] = score_knn_selected\n",
    "    df_bp.iloc[i,7] = str(grid_knn_selected.best_params_)"
   ]
  },
  {
   "cell_type": "code",
   "execution_count": 13,
   "metadata": {},
   "outputs": [],
   "source": [
    "with pd.ExcelWriter(\"SpaceX_ML_Predict_Random_Seeds.xlsx\") as writer:\n",
    "    df_rs.to_excel(writer, sheet_name=\"Accuracies\", index_label=\"Random Seed\")\n",
    "    df_trn_id.to_excel(writer, sheet_name=\"Train Split Indices\", index_label=\"Random Seed\")\n",
    "    df_tst_id.to_excel(writer, sheet_name=\"Test_Split Indices\", index_label=\"Random Seed\")\n",
    "    df_bp.to_excel(writer, sheet_name=\"Best Parameters\", index_label=\"Random Seed\")"
   ]
  },
  {
   "cell_type": "code",
   "execution_count": null,
   "metadata": {},
   "outputs": [],
   "source": []
  }
 ],
 "metadata": {
  "kernelspec": {
   "display_name": "Python 3",
   "language": "python",
   "name": "python3"
  },
  "language_info": {
   "codemirror_mode": {
    "name": "ipython",
    "version": 3
   },
   "file_extension": ".py",
   "mimetype": "text/x-python",
   "name": "python",
   "nbconvert_exporter": "python",
   "pygments_lexer": "ipython3",
   "version": "3.8.1"
  },
  "toc-autonumbering": true
 },
 "nbformat": 4,
 "nbformat_minor": 4
}
