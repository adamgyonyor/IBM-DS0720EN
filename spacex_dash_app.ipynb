{
 "cells": [
  {
   "cell_type": "markdown",
   "metadata": {},
   "source": [
    "# Module 3 - Interactive Dashboard with Ploty Dash"
   ]
  },
  {
   "cell_type": "code",
   "execution_count": 1,
   "metadata": {},
   "outputs": [
    {
     "name": "stderr",
     "output_type": "stream",
     "text": [
      "<ipython-input-1-89e3ae8eb04c>:4: UserWarning: \n",
      "The dash_html_components package is deprecated. Please replace\n",
      "`import dash_html_components as html` with `from dash import html`\n",
      "  import dash_html_components as html\n",
      "<ipython-input-1-89e3ae8eb04c>:5: UserWarning: \n",
      "The dash_core_components package is deprecated. Please replace\n",
      "`import dash_core_components as dcc` with `from dash import dcc`\n",
      "  import dash_core_components as dcc\n"
     ]
    }
   ],
   "source": [
    "# Import required libraries\n",
    "import pandas as pd\n",
    "import dash\n",
    "import dash_html_components as html\n",
    "import dash_core_components as dcc\n",
    "from dash.dependencies import Input, Output\n",
    "import plotly.express as px"
   ]
  },
  {
   "cell_type": "code",
   "execution_count": 2,
   "metadata": {},
   "outputs": [],
   "source": [
    "# Read the airline data into pandas dataframe\n",
    "spacex_df = pd.read_csv(\"spacex_launch_dash.csv\")\n",
    "max_payload = spacex_df['Payload Mass (kg)'].max()\n",
    "min_payload = spacex_df['Payload Mass (kg)'].min()"
   ]
  },
  {
   "cell_type": "code",
   "execution_count": 3,
   "metadata": {},
   "outputs": [],
   "source": [
    "# Create a dash application\n",
    "app = dash.Dash(__name__)"
   ]
  },
  {
   "cell_type": "code",
   "execution_count": 4,
   "metadata": {},
   "outputs": [],
   "source": [
    "# Create an app layout\n",
    "app.layout = html.Div(children=[html.H1('SpaceX Launch Records Dashboard',\n",
    "                                        style={'textAlign': 'center', 'color': '#503D36',\n",
    "                                               'font-size': 40}),\n",
    "                                # TASK 1: Add a dropdown list to enable Launch Site selection\n",
    "                                # The default select value is for ALL sites\n",
    "                                dcc.Dropdown(id='site-dropdown',\n",
    "                                            options=[{'label': 'All Sites', 'value': 'ALL'},\n",
    "                                                    {'label': 'CCAFS LC-40 - Cape Canaveral Launch Complex 40', 'value': 'CCAFS LC-40'},\n",
    "                                                    {'label': 'VAFB SLC-4E - Vandenberg Space Launch Complex 4E', 'value': 'VAFB SLC-4E'},\n",
    "                                                    {'label': 'KSC LC-39A - Kennedy Space Center Launch Complex 39A', 'value': 'KSC LC-39A'},\n",
    "                                                    {'label': 'CCAFS SLC-40 - Cape Canaveral Space Launch Complex 40', 'value': 'CCAFS SLC-40'}\n",
    "                                                    ],\n",
    "                                            value='ALL',\n",
    "                                            placeholder='Select a Launch Site here',\n",
    "                                            searchable=True\n",
    "                                            ),\n",
    "                                html.Br(),\n",
    "\n",
    "                                # TASK 2: Add a pie chart to show the total successful launches count for all sites\n",
    "                                # If a specific launch site was selected, show the Success vs. Failed counts for the site\n",
    "                                html.Div(dcc.Graph(id='success-pie-chart')),\n",
    "                                html.Br(),\n",
    "\n",
    "                                html.P(\"Payload range (Kg):\"),\n",
    "                                # TASK 3: Add a slider to select payload range\n",
    "                                dcc.RangeSlider(\n",
    "                                    id='payload-slider',\n",
    "                                    min=0,\n",
    "                                    max=10000,\n",
    "                                    step=1000,\n",
    "                                    marks={0: '0 kg',\n",
    "                                        1000: '1000 kg',\n",
    "                                        2000: '2000 kg',\n",
    "                                        3000: '3000 kg',\n",
    "                                        4000: '4000 kg',\n",
    "                                        5000: '5000 kg',\n",
    "                                        6000: '6000 kg',\n",
    "                                        7000: '7000 kg',\n",
    "                                        8000: '8000 kg',\n",
    "                                        9000: '9000 kg',\n",
    "                                        10000: '10000 kg'\n",
    "                                        },\n",
    "                                    value=[min_payload, max_payload]\n",
    "                                    ),\n",
    "\n",
    "                                # TASK 4: Add a scatter chart to show the correlation between payload and launch success\n",
    "                                html.Div(dcc.Graph(id='success-payload-scatter-chart')),\n",
    "                                ])"
   ]
  },
  {
   "cell_type": "code",
   "execution_count": 5,
   "metadata": {},
   "outputs": [],
   "source": [
    "# TASK 2:\n",
    "# Add a callback function for `site-dropdown` as input, `success-pie-chart` as output\n",
    "@app.callback(\n",
    "            Output(component_id='success-pie-chart', component_property='figure'),\n",
    "            Input(component_id='site-dropdown', component_property='value')\n",
    "            )\n",
    "def get_pie_chart(entered_site):\n",
    "    if entered_site == 'ALL':\n",
    "        fig = px.pie(\n",
    "            data_frame=spacex_df,\n",
    "            values='class',\n",
    "            names='Launch Site',\n",
    "            title='Successful Launches by Site',\n",
    "            )\n",
    "    else:\n",
    "        filtered_df = spacex_df[spacex_df['Launch Site'] == entered_site].groupby('class')['Flight Number'].count().reset_index()\n",
    "        filtered_df['Booster Landing'] = ['Successful Landing' if cls == 1 else 'Unsuccessful Landing' for cls in filtered_df['class'].to_list()]\n",
    "        filtered_df.rename(columns={'Flight Number': 'Total Number of Flights'}, inplace=True)\n",
    "        fig = px.pie(\n",
    "            data_frame=filtered_df,\n",
    "            values='Total Number of Flights',\n",
    "            names='Booster Landing',\n",
    "            title='Success Rate for Launch Site ' + entered_site,\n",
    "            color='Booster Landing',\n",
    "            color_discrete_map={'Successful Landing': 'green', 'Unsuccessful Landing': 'red'}\n",
    "            )\n",
    "    return fig"
   ]
  },
  {
   "cell_type": "code",
   "execution_count": 6,
   "metadata": {},
   "outputs": [],
   "source": [
    "# TASK 4:\n",
    "# Add a callback function for `site-dropdown` and `payload-slider` as inputs, `success-payload-scatter-chart` as output\n",
    "@app.callback(\n",
    "            Output(component_id='success-payload-scatter-chart', component_property='figure'),\n",
    "            Input(component_id='site-dropdown', component_property='value'),\n",
    "            Input(component_id='payload-slider', component_property='value')\n",
    "            )\n",
    "def get_scatter_chart(entered_site, range_kg):\n",
    "    if entered_site == 'ALL':\n",
    "        filtered_df = spacex_df[\n",
    "            (spacex_df['Payload Mass (kg)'] >= range_kg[0])\n",
    "            & (spacex_df['Payload Mass (kg)'] <= range_kg[1])\n",
    "            ]\n",
    "        title = 'Correlation between Payload and Landing Success for all Sites'\n",
    "    else:\n",
    "        filtered_df = spacex_df[\n",
    "            (spacex_df['Launch Site'] == entered_site)\n",
    "            & (spacex_df['Payload Mass (kg)'] >= range_kg[0])\n",
    "            & (spacex_df['Payload Mass (kg)'] <= range_kg[1])\n",
    "            ]\n",
    "        title = 'Correlation between Payload and Landing Success for Launch Site ' + entered_site\n",
    "    fig = px.scatter(\n",
    "        data_frame=filtered_df,\n",
    "        x='Payload Mass (kg)',\n",
    "        y='class',\n",
    "        color='Booster Version Category',\n",
    "        title=title\n",
    "        )\n",
    "    return fig"
   ]
  },
  {
   "cell_type": "code",
   "execution_count": 7,
   "metadata": {},
   "outputs": [
    {
     "name": "stdout",
     "output_type": "stream",
     "text": [
      "Dash is running on http://127.0.0.1:8050/\n",
      "\n",
      " * Serving Flask app '__main__' (lazy loading)\n",
      " * Environment: production\n",
      "\u001b[31m   WARNING: This is a development server. Do not use it in a production deployment.\u001b[0m\n",
      "\u001b[2m   Use a production WSGI server instead.\u001b[0m\n",
      " * Debug mode: off\n"
     ]
    },
    {
     "name": "stderr",
     "output_type": "stream",
     "text": [
      " * Running on http://127.0.0.1:8050/ (Press CTRL+C to quit)\n",
      "127.0.0.1 - - [13/Dec/2021 12:18:28] \"GET / HTTP/1.1\" 200 -\n",
      "127.0.0.1 - - [13/Dec/2021 12:18:28] \"GET /_dash-component-suites/dash/deps/polyfill@7.v2_0_0m1639393420.12.1.min.js HTTP/1.1\" 200 -\n",
      "127.0.0.1 - - [13/Dec/2021 12:18:28] \"GET /_dash-component-suites/dash/deps/react-dom@16.v2_0_0m1639393420.14.0.min.js HTTP/1.1\" 200 -\n",
      "127.0.0.1 - - [13/Dec/2021 12:18:28] \"GET /_dash-component-suites/dash/deps/react@16.v2_0_0m1639393420.14.0.min.js HTTP/1.1\" 200 -\n",
      "127.0.0.1 - - [13/Dec/2021 12:18:28] \"GET /_dash-component-suites/dash/dash-renderer/build/dash_renderer.v2_0_0m1639393419.min.js HTTP/1.1\" 200 -\n",
      "127.0.0.1 - - [13/Dec/2021 12:18:28] \"GET /_dash-component-suites/dash/dcc/dash_core_components-shared.v2_0_0m1639393420.js HTTP/1.1\" 200 -\n",
      "127.0.0.1 - - [13/Dec/2021 12:18:28] \"GET /_dash-component-suites/dash/deps/prop-types@15.v2_0_0m1639393420.7.2.min.js HTTP/1.1\" 200 -\n",
      "127.0.0.1 - - [13/Dec/2021 12:18:28] \"GET /_dash-component-suites/dash/dcc/dash_core_components.v2_0_0m1639393420.js HTTP/1.1\" 200 -\n",
      "127.0.0.1 - - [13/Dec/2021 12:18:29] \"GET /_dash-component-suites/dash/dash_table/bundle.v5_0_0m1639393419.js HTTP/1.1\" 200 -\n",
      "127.0.0.1 - - [13/Dec/2021 12:18:29] \"GET /_dash-component-suites/dash/html/dash_html_components.v2_0_0m1639393420.min.js HTTP/1.1\" 200 -\n",
      "127.0.0.1 - - [13/Dec/2021 12:18:29] \"GET /_dash-layout HTTP/1.1\" 200 -\n",
      "127.0.0.1 - - [13/Dec/2021 12:18:29] \"GET /_dash-dependencies HTTP/1.1\" 200 -\n",
      "127.0.0.1 - - [13/Dec/2021 12:18:29] \"GET /_favicon.ico?v=2.0.0 HTTP/1.1\" 200 -\n",
      "127.0.0.1 - - [13/Dec/2021 12:18:29] \"GET /_dash-component-suites/dash/dcc/async-dropdown.js HTTP/1.1\" 200 -\n",
      "127.0.0.1 - - [13/Dec/2021 12:18:29] \"GET /_dash-component-suites/dash/dcc/async-graph.js HTTP/1.1\" 200 -\n",
      "127.0.0.1 - - [13/Dec/2021 12:18:29] \"GET /_dash-component-suites/dash/dcc/async-slider.js HTTP/1.1\" 200 -\n",
      "127.0.0.1 - - [13/Dec/2021 12:18:29] \"GET /_dash-component-suites/dash/dcc/async-plotlyjs.js HTTP/1.1\" 200 -\n",
      "127.0.0.1 - - [13/Dec/2021 12:18:31] \"POST /_dash-update-component HTTP/1.1\" 200 -\n",
      "127.0.0.1 - - [13/Dec/2021 12:18:31] \"POST /_dash-update-component HTTP/1.1\" 200 -\n",
      "127.0.0.1 - - [13/Dec/2021 12:18:40] \"POST /_dash-update-component HTTP/1.1\" 200 -\n",
      "127.0.0.1 - - [13/Dec/2021 12:18:40] \"POST /_dash-update-component HTTP/1.1\" 200 -\n",
      "127.0.0.1 - - [13/Dec/2021 12:18:44] \"POST /_dash-update-component HTTP/1.1\" 200 -\n",
      "127.0.0.1 - - [13/Dec/2021 12:18:45] \"POST /_dash-update-component HTTP/1.1\" 200 -\n",
      "127.0.0.1 - - [13/Dec/2021 12:18:48] \"POST /_dash-update-component HTTP/1.1\" 200 -\n",
      "127.0.0.1 - - [13/Dec/2021 12:18:49] \"POST /_dash-update-component HTTP/1.1\" 200 -\n",
      "127.0.0.1 - - [13/Dec/2021 12:18:52] \"POST /_dash-update-component HTTP/1.1\" 200 -\n",
      "127.0.0.1 - - [13/Dec/2021 12:18:52] \"POST /_dash-update-component HTTP/1.1\" 200 -\n"
     ]
    }
   ],
   "source": [
    "# Run the app\n",
    "if __name__ == '__main__':\n",
    "    app.run_server()"
   ]
  },
  {
   "cell_type": "code",
   "execution_count": null,
   "metadata": {},
   "outputs": [],
   "source": []
  }
 ],
 "metadata": {
  "kernelspec": {
   "display_name": "Python 3",
   "language": "python",
   "name": "python3"
  },
  "language_info": {
   "codemirror_mode": {
    "name": "ipython",
    "version": 3
   },
   "file_extension": ".py",
   "mimetype": "text/x-python",
   "name": "python",
   "nbconvert_exporter": "python",
   "pygments_lexer": "ipython3",
   "version": "3.8.1"
  }
 },
 "nbformat": 4,
 "nbformat_minor": 4
}
